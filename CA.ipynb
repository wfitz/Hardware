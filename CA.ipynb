{
 "cells": [
  {
   "cell_type": "markdown",
   "metadata": {},
   "source": [
    "# Computer Hardware & Architecture Primer\n",
    "\n",
    "### Generic Disclaimers\n",
    "- This is a raw draft, not sure when this will be properly updated...\n",
    "- The items below are an overly simplified look at a few items of a fast moving field. \n",
    "\n",
    "\n",
    "### A few topics we'll try and tackle\n",
    "- Motivation of why you might care\n",
    "- A very quick stroll through various parts of the compute stack\n",
    "- Qualitative look at main components (cpu, gpu, memory, fpgas, etc)\n",
    "- Start thinking between layers of the stack, device level <-> high level languages "
   ]
  },
  {
   "cell_type": "markdown",
   "metadata": {},
   "source": [
    "***"
   ]
  },
  {
   "cell_type": "markdown",
   "metadata": {},
   "source": [
    "# Motivation"
   ]
  },
  {
   "cell_type": "markdown",
   "metadata": {},
   "source": [
    "![Alt text](./CA/xkcd.png?raw=true \"XKCD\")\n"
   ]
  },
  {
   "cell_type": "markdown",
   "metadata": {},
   "source": [
    "<h6><center>Mostly factual representation of how the average cloud user views computer hardware</center></h6>\n",
    "<center>Source: https://xkcd.com/353/</center>"
   ]
  },
  {
   "cell_type": "markdown",
   "metadata": {},
   "source": [
    "### Thanks to abstraction we can do amazing things with almost zero hardware knowledge... So, why should you care?"
   ]
  },
  {
   "cell_type": "markdown",
   "metadata": {},
   "source": [
    "\n",
    "###### Performance \n",
    "- ML & data demands are growing while computer speed ups are slowing. However, with some basic understanding around computer hardware & architecture we can still make significant performance increases. \n",
    "\n",
    "###### Integrity\n",
    "- Being able to understand what is a software vs hardware issue/vulnerability. Don't spend months debugging code that's really a hardware issue. \n",
    "\n",
    "###### Special Applications\n",
    "- Niche applications can have stringent requirements like extremely low latency. A self-driving car can't wait seconds to respond to pedestrians in a crosswalk.\n",
    "\n",
    "###### Forward Thinking\n",
    "- Keeping an eye on current & future tech for possible integration to existing or future projects. "
   ]
  },
  {
   "cell_type": "markdown",
   "metadata": {},
   "source": [
    "***"
   ]
  },
  {
   "cell_type": "markdown",
   "metadata": {},
   "source": [
    "# Computer Abstraction"
   ]
  },
  {
   "cell_type": "markdown",
   "metadata": {},
   "source": [
    "- Abstraction is what allows us to view each layer independently by defining (mostly) clear interaction between layers. \n",
    "- While definitely not perfect, this enables a lot of coding portability between different machines and significantly reduces complexity in high level programming languages.\n",
    "- Let's take a look at the lower part of the stack leading up to programming languages..."
   ]
  },
  {
   "cell_type": "markdown",
   "metadata": {},
   "source": [
    "![Alt temxt](./CA/stack.png?raw=true \"Abstraction\")"
   ]
  },
  {
   "cell_type": "markdown",
   "metadata": {},
   "source": [
    "<h6><center> Abstraction Stack</center></h6>\n"
   ]
  },
  {
   "cell_type": "markdown",
   "metadata": {},
   "source": [
    "## Foundation layer"
   ]
  },
  {
   "cell_type": "markdown",
   "metadata": {},
   "source": [
    "#### A few topics (among many others) that enable the current computing paradigm... \n",
    "- Boolean algebra: The ability to reduce complex ideas and problems into mathematical operations on True and False values (Or 1's and 0's reflecting voltage high and low).\n",
    "- Semiconductors: The technology currently underpinning current computing devices. Most notably is the transistor, which can be thought of as an electrical on/off switch.\n",
    "- Digital Logic Design: Using transistors and other electrical components to implement boolean logic gates (and, or, not, nand, etc...). These are the building blocks used to make the sequential (think store data and preserve state) and combinational logic (perform math operations) necessary for a modern computer.\n"
   ]
  },
  {
   "cell_type": "markdown",
   "metadata": {},
   "source": [
    "#### Analogy\n",
    "- Definitely the worst analogy here, but...\n",
    "- Think of a light bulb. It has two states, on and off. Yet with this single bit of information we can represent a wide variety of things. The fasten seatbelt light on the airplane, an \"on the air\" indicator at a radio station, a restaurant \"open\" sign, and many others. There's an incredible amount of ideas a single point of true or false information can be applied to. \n",
    "- A computer isn't terribly different, except it's much more complex. At it's heart a computer is also state machine, but with many more states and a lot more switches. Modern CPUs can contain *__billions__* of transistors. "
   ]
  },
  {
   "cell_type": "markdown",
   "metadata": {},
   "source": [
    "***"
   ]
  },
  {
   "cell_type": "markdown",
   "metadata": {},
   "source": [
    "# Device level\n"
   ]
  },
  {
   "cell_type": "markdown",
   "metadata": {},
   "source": [
    "#### A quick note on Latency vs Bandwidth\n",
    "- Latency is how much time it takes to send information from one point to the next. For example, how long it might take for a CPU to start receiving requested data from main memory. \n",
    "- Latency is limited by the time it takes a signal to physically travel over a medium (copper, fiber, air, etc..) plus any computing overhead (like any transistors switching) involved with the process. \n",
    "- Bandwidth is how much data can be sent in a given amount of time. The faster the frequency on a bus (the copper lane(s) physically connecting computer devices) the higher the potential data transfer rate. \n",
    "- We're going to try and keep things as qualitative as possible below. \n",
    "\n",
    "#### Analogy: \n",
    "- Think of a sports car vs a full bus...\n",
    "- The car is faster to get to it's destination (lower latency)\n",
    "- But the bus can carry a lot more people (higher bandwidth)\n"
   ]
  },
  {
   "cell_type": "markdown",
   "metadata": {},
   "source": [
    "![Alt text](./CA/latency.png?raw=true \"Latency Table\")"
   ]
  },
  {
   "cell_type": "markdown",
   "metadata": {},
   "source": [
    "<h6><center>Slightly dated, but still rather interesting to see how fast latency increases as you move away from the CPU</center></h6>\n",
    "<center>Source: ??</center>"
   ]
  },
  {
   "cell_type": "markdown",
   "metadata": {},
   "source": [
    "## CPU (Central Processing Unit)"
   ]
  },
  {
   "cell_type": "markdown",
   "metadata": {},
   "source": [
    "![Alt text](./CA/cpu.png?raw=true \"Intel i7 CPU\")"
   ]
  },
  {
   "cell_type": "markdown",
   "metadata": {},
   "source": [
    "<h6><center>Intel i7 CPU Rendering</center></h6>\n",
    "<center>Source: Intel Press</center>"
   ]
  },
  {
   "cell_type": "markdown",
   "metadata": {},
   "source": [
    "- CPUs serve as the brain of a computer. They are highly connected to the rest of the system, including things such as input and output (keyboard, mouse, monitors). \n",
    "- A modern CPU is design to be a highly versatile tool able to handle a wide range of operations with low latency. It mostly executes these tasks in a sequential manner.  \n",
    "\n",
    "###### To better understand CPUs imagine we loaded an infinitely long stack of instructions and data inputs into the (infinitely large) main memory of a very simple single core cpu. It might look something like this if we were to watch: "
   ]
  },
  {
   "cell_type": "raw",
   "metadata": {},
   "source": [
    "while instructions:\n",
    "    Fetch next instruction and inputs from main memory (external from CPU)\n",
    "    Decode instruction provided\n",
    "    Run specified operation on given inputs \n",
    "    Store result to memory or output"
   ]
  },
  {
   "cell_type": "markdown",
   "metadata": {},
   "source": [
    "- This isn't terribly far off from what a modern CPU does. In fact modern CPUs are more or less an evolution from older computers that accepted punch cards in and gave punch cards out. \n",
    "- Modern CPUs have just received a significant number of improvements over the years to make things run significantly faster."
   ]
  },
  {
   "cell_type": "markdown",
   "metadata": {},
   "source": [
    "![Alt text](./CA/cpucontrol.png?raw=true \"Block Diagram\")"
   ]
  },
  {
   "cell_type": "markdown",
   "metadata": {},
   "source": [
    "<h6><center>Simplified CPU block diagram</center></h6>\n",
    "<center>Source: https://en.wikipedia.org/wiki/Central_processing_unit#/media/File:ABasicComputer.gif</center>"
   ]
  },
  {
   "cell_type": "markdown",
   "metadata": {},
   "source": [
    "#### A few things a Modern CPU does to speed things up\n",
    "- Pipelining: Think of it as an assembly line for instructions to fully utilize all parts of the CPU.\n",
    "- Out-Of-Order Execution: Ability to service unrelated items next in the pipeline.\n",
    "- Multiple Cores: Multiple cores to distribute high level applications across.\n",
    "- Multithreading: Similar to multitasking... you might be working on two items, but really it's just switching between the two.\n",
    "- Vectorization: Applying a task across multiple cores to parallelize computing.\n",
    "- Superscaling: Not terribly unlike when a manager overloads you with extra work even though you're already busy.\n",
    "- Speculative Execution: Guessing what might come next in a program and caching that result incase it's called later. This saves time going to main memory. Loops are a good example of when the next step is easy to predict."
   ]
  },
  {
   "cell_type": "markdown",
   "metadata": {},
   "source": [
    "<div class=\"alert-danger\">\n",
    "Security Side Note: Speculative execution is what enables hardware attacks such as Spectre and Meltdown. Not going to go into full details, but more or less a malicious actor uses speculative execution to trick a CPU into caching private data from memory that the actor can then extract through various means. \n",
    "</div>"
   ]
  },
  {
   "cell_type": "markdown",
   "metadata": {},
   "source": [
    "#### A few issues\n",
    "- CPUs run faster than main memory can provide data, leading to noticeable delays.\n",
    "- When multiple cores share a memory controller it's easy to bottleneck the interface between memory and the CPU. Think of cars trying to get in and out of downtown during rush hour."
   ]
  },
  {
   "cell_type": "markdown",
   "metadata": {},
   "source": [
    "![Alt text](./CA/cpublock.png?raw=true \"Block Diagram\")"
   ]
  },
  {
   "cell_type": "markdown",
   "metadata": {},
   "source": [
    "<h6><center>Caching on a four core CPU</center></h6>\n",
    "<center>Source: Nvidia Press</center>"
   ]
  },
  {
   "cell_type": "markdown",
   "metadata": {},
   "source": [
    "#### Mitigation\n",
    "- To mitigate this to some extent (but it's definitely still a big problem) CPUs have a great deal of caching to core ratio on the silicon die to attempt to alleviate some of this demand.\n",
    "- Caching here is done in hardware logic without you knowing at the software level. "
   ]
  },
  {
   "cell_type": "markdown",
   "metadata": {},
   "source": [
    "## Memory & Storage"
   ]
  },
  {
   "cell_type": "markdown",
   "metadata": {},
   "source": [
    "![Alt text](./CA/ddr4.png?raw=true \"DDR4\")"
   ]
  },
  {
   "cell_type": "markdown",
   "metadata": {},
   "source": [
    "<h6><center>128 GB DDR4 Memory Module</center></h6>\n",
    "<center>Source: SK Hynix</center>"
   ]
  },
  {
   "cell_type": "markdown",
   "metadata": {},
   "source": [
    "### There are several tiers of storage in modern computing systems\n",
    "###### CPU Registers <-> CPU Caches <-> Main Memory <-> SSD / Disk / Tape (yes, tape is still used)\n",
    "- Generally as we move left to right the following happens...\n",
    "- longer latency, smaller bandwidth, larger storage size, lower cost.\n",
    "- For now we're just going to focus on CPU main memory."
   ]
  },
  {
   "cell_type": "markdown",
   "metadata": {},
   "source": [
    "#### Main Memory or RAM (random access memory)"
   ]
  },
  {
   "cell_type": "markdown",
   "metadata": {},
   "source": [
    "- Generally referred to as the \"Memory\" of the CPU, used as a staging ground for CPU operations.\n",
    "- Where data, instructions, programming functions & variables, OS information, and more are stored during computer runtime.\n",
    "- High endurance (doesn't wear out easily from lots of reads and writes, unlike SSDs which can lose the ability to hold charge after too many writes due to their physical design).\n",
    "- Main memory design in recent years has focused more on increasing storage capacity and bandwidth, not lowering latency."
   ]
  },
  {
   "cell_type": "markdown",
   "metadata": {},
   "source": [
    "![Alt text](./CA/memoryblock.png?raw=true \"Memory Diagram\")"
   ]
  },
  {
   "cell_type": "markdown",
   "metadata": {},
   "source": [
    "<h6><center>Don't worry about the fine details above, just realize memory is similar to an array of 1's and 0's representing our data and programs</center></h6>\n",
    "<center>Source: semiengineering.com</center>"
   ]
  },
  {
   "cell_type": "markdown",
   "metadata": {},
   "source": [
    "- Main Memory uses capacitors which require constant \"refreshes\" to maintain charge even when data is at rest.\n",
    "- This makes memory power hungry and also raises latency due to the need to regularly refresh these cells to ensure data integrity."
   ]
  },
  {
   "cell_type": "markdown",
   "metadata": {},
   "source": [
    "<div class=\"alert-danger\">\n",
    "Security Side Note: As the size of these units has shrunk they have become more and more susceptible to bit flips from electromagnetic coupling between memory cells. This is exaggerated if a specific row (or several rows) is being accessed rapidly. While the resulting data corruption is scary (And confusing if it's being viewed as a software issue), it's even more chilling that it's possible to use this method in order to execute a privilege escalation attack. Look up Rowhammer for more information. </div>"
   ]
  },
  {
   "cell_type": "markdown",
   "metadata": {},
   "source": [
    "#### Another side note...\n",
    "- There's such a thing as non-volatile (doesn't lose charge) memory that has a different physical construction, but it's not nearly as performant and definitely not as widespread as DRAM. The main benefit is increased storage capacity and being non-volatile. Latency however is much higher (but still generally faster than going to SSD or Disk). "
   ]
  },
  {
   "cell_type": "markdown",
   "metadata": {},
   "source": [
    "## GPUs (Graphics Processing Unit)"
   ]
  },
  {
   "cell_type": "markdown",
   "metadata": {},
   "source": [
    "![Alt text](./CA/gpu.png?raw=true \"GPU\")"
   ]
  },
  {
   "cell_type": "markdown",
   "metadata": {},
   "source": [
    "<h6><center> Nvidia GPU Card</center></h6>\n",
    "<center>Source: Nvidia Press </center>"
   ]
  },
  {
   "cell_type": "markdown",
   "metadata": {},
   "source": [
    "- GPUs were originally used to offload heavy graphics loads from the CPU.\n",
    "- Built to handle the generation of pixels from the underlying 3d shapes. \n",
    "\n",
    "###### GPUs were built with a very specific task in mind, leading to the following characteristics\n",
    "- Optimized for doing a few operations very well (like matrix multiplication, as lots of vectors are involved in pixel calculations).\n",
    "- Highly parallel nature since pixels are independent and need to be displayed all at once.\n",
    "- GPU Memory optimized for throughput over latency, but still acceptable latency.\n",
    "- Just to be extra clear here... GPUs have their own memory similar to main memory technology. If you look at the above card there are several memory blocks directly surrounding the GPU chip in the middle.\n",
    "\n",
    "\n",
    "#### What this ends up looking like at a basic level\n",
    "- A lot of smaller cores optimized for doing a specific set of operations.\n",
    "- Highly parallel nature where one control unit runs data on several cores.\n",
    "- Much less caching space compared to CPUs."
   ]
  },
  {
   "cell_type": "markdown",
   "metadata": {},
   "source": [
    "![Alt text](./CA/gpublock.png?raw=true \"GPU Block Diagram\")"
   ]
  },
  {
   "cell_type": "markdown",
   "metadata": {},
   "source": [
    "<h6><center> Simple GPU Diagram</center></h6>\n",
    "<center>Source: Nvidia Press </center>"
   ]
  },
  {
   "cell_type": "markdown",
   "metadata": {},
   "source": [
    "###### GPGPU (General Purpose GPU)\n",
    "- GPGPU is what came about after people realized they could use GPUs for additional tasks that benefited from GPU's parallel nature vs more sequential CPUs.\n",
    "- Neural networks in particular are frequently trained on GPUs due to the substantial speed up since we can parallelize computing each node in a single layer as they are independent."
   ]
  },
  {
   "cell_type": "markdown",
   "metadata": {},
   "source": [
    "![Alt text](./CA/neuralnet.png?raw=true \"GPU Block Diagram\")"
   ]
  },
  {
   "cell_type": "markdown",
   "metadata": {},
   "source": [
    "<h6><center> Neural Network</center></h6>\n",
    "<center>Source: ?? </center>"
   ]
  },
  {
   "cell_type": "markdown",
   "metadata": {},
   "source": [
    "### FPGAs (Field Programmable Gate Arrays)"
   ]
  },
  {
   "cell_type": "markdown",
   "metadata": {},
   "source": [
    "![Alt text](./CA/fpga.png?raw=true \"FPGA\")"
   ]
  },
  {
   "cell_type": "markdown",
   "metadata": {},
   "source": [
    "<h6><center> Intel PCIe FPGA </center></h6>\n",
    "<center>Source: Intel Press</center>"
   ]
  },
  {
   "cell_type": "markdown",
   "metadata": {},
   "source": [
    "- Unlike CPUs and GPUs which have fixed hardware logic implementations, the FPGA is a device with lots of reprogrammable logic blocks used to create custom hardware logic. \n",
    "\n",
    "#### What does that mean exactly?\n",
    "- We can program an FPGA to execute whatever logic (or device) we like. If you wanted to make a CPU, you could. In fact many companies will prototype their designs in FPGAs. \n",
    "- Getting closer to data & ML, FPGAs can be used to implement a machine learning model directly in hardware logic for super low latency inference. "
   ]
  },
  {
   "cell_type": "markdown",
   "metadata": {},
   "source": [
    "![Alt text](./CA/fpgablock.png?raw=true \"FPGA\")"
   ]
  },
  {
   "cell_type": "markdown",
   "metadata": {},
   "source": [
    "<h6><center> FPGA Block Diagram </center></h6>\n",
    "<center>Source: NI Press</center>"
   ]
  },
  {
   "cell_type": "markdown",
   "metadata": {},
   "source": [
    "#### Benefits\n",
    "- Reprogrammable logic. \n",
    "- Make almost anything you can think of.\n",
    "- Truly parallel. We can use part of the system to do one task and another to do something totally different. These tasks can be completely isolated and run fully parallel unaware of the other. \n",
    "- Low latency. Implement solution in pure hardware logic (bit in bits out... no need for software overhead). Depending on implementation it's also possible avoid going to external memory like CPUs and GPUs do for storing intermediate results.  \n",
    "- Generally more energy efficient compared to GPUs and CPUs.\n",
    "- Long life cycles. Can physically last years, and can be reprogrammed to adapt to design changes.\n",
    "\n",
    "#### Drawbacks:\n",
    "- Complexity: Traditionally to program an FPGA you needed to know hardware languages like VHDL or Verilog. There are some growing tools other there to use higher level languages, but it's not clear how well some of those optimize the underlying hardware. \n",
    "- Portability: Doesn't seem very portable between cloud providers at the moment. Hopefully this is simplified in the future (and there might already be good work being done on this already), but moving an FPGA implementation from one cloud provider to another sounds less than pleasant. \n",
    "\n",
    "#### Examples\n",
    "- Microsoft has been doing a lot of work around FPGAs in their cloud...\n",
    "- Bing uses FPGAs to hardware accelerate software defined networking.\n",
    "- Azure touts FPGA integration in their cloud for machine learning."
   ]
  },
  {
   "cell_type": "markdown",
   "metadata": {},
   "source": [
    "## ASICs (Application Specific Integrated Circuit)"
   ]
  },
  {
   "cell_type": "markdown",
   "metadata": {},
   "source": [
    "![Alt text](./CA/tpu.png?raw=true \"TPU\")"
   ]
  },
  {
   "cell_type": "markdown",
   "metadata": {},
   "source": [
    "<h6><center>Google TPU ML ASIC</center></h6>\n",
    "<center>Source: Google Press</center>"
   ]
  },
  {
   "cell_type": "markdown",
   "metadata": {},
   "source": [
    "- More or less exactly what it sounds like, an ASIC is a custom chip for a specific usage.\n",
    "- Think of it similar an to FPGA, but all the connections are etched permanently and any excess logic and size is removed. \n",
    "\n",
    "###### Benefits over FPGA approach:\n",
    "- Better performance.\n",
    "- Lower power consumption.\n",
    "- Lower unit cost when able to do large enough volume.\n",
    "\n",
    "###### Drawbacks:\n",
    "- Development time can be long and costly to do correctly.\n",
    "- Not reconfigurable, can be a slow turnaround time for updates."
   ]
  },
  {
   "cell_type": "markdown",
   "metadata": {},
   "source": [
    "## Summary of devices"
   ]
  },
  {
   "cell_type": "markdown",
   "metadata": {},
   "source": [
    "![Alt text](./CA/microsoftdocs.png?raw=true \"Overview\")"
   ]
  },
  {
   "cell_type": "markdown",
   "metadata": {},
   "source": [
    "<h6><center>Silicon Options for ML</center></h6>\n",
    "<center>Source: Microsoft Press</center>"
   ]
  },
  {
   "cell_type": "markdown",
   "metadata": {},
   "source": [
    "### PCBs"
   ]
  },
  {
   "cell_type": "markdown",
   "metadata": {},
   "source": [
    "![Alt text](./CA/brd.png?raw=true \"Title\")"
   ]
  },
  {
   "cell_type": "markdown",
   "metadata": {},
   "source": [
    "<h6><center>PCB Routing Rendering </center></h6>\n",
    "<center>Source: Cadence Allegro?</center>"
   ]
  },
  {
   "cell_type": "markdown",
   "metadata": {},
   "source": [
    "- Printed circuit boards are the nervous system of a computer, as it electrically connects all devices in a computer. \n",
    "- PCBs are generally several layers thick to accommodate all necessary electrical connections and mechanical requirements. \n",
    "- How these devices are connected directly impacts our ability to use the computer. For instance, modern architectures generally have main memory attached directly to CPUs and nothing else. To access memory, signals must travel over the copper connecting these two devices.\n",
    "\n",
    "###### A few terms\n",
    "- Bus: A bus is a logical grouping of similar signals. Like a PCIe bus for example. \n",
    "- Bus width: How many copper connections are present in the bus. PCIe x16 for example means there are 16 copper lanes that data can be transmitted over in parallel. \n",
    "\n",
    "###### A note on board quality\n",
    "- How well a board is designed can have a significant impact on performance. \n",
    "- Much like how a poor quality road impacts efficient traffic flow, a poor quality PCB can limit high speed data transfer. \n",
    "- Your CPU and GPU may be PCIe gen 4 capable, but they will not run at that speed if the board can't support it."
   ]
  },
  {
   "cell_type": "markdown",
   "metadata": {},
   "source": [
    "***"
   ]
  },
  {
   "cell_type": "markdown",
   "metadata": {},
   "source": [
    "## Microarchitecture & ISA"
   ]
  },
  {
   "cell_type": "markdown",
   "metadata": {},
   "source": [
    "#### Microarchitecture:\n",
    "- How something (say a cpu for instance) implements the hardware logic to do it's computing.\n",
    "- Intel CPUs uarch codenames you might have heard of... (Ivybridge, Haswell, Skylake, etc..)\n",
    "\n",
    "#### Instruction Set Architecture (ISA): \n",
    "- A standardized collection of commands the hardware knows how to run.\n",
    "- x86 and ARM being two common ISAs you've probably heard of.\n",
    "\n",
    "###### Analogy:\n",
    "- Let's think of a bicycle...\n",
    "- In this context the microarchitecture might refer to the bicycle drivetrain. Does it use a chain? A belt? Is it electric? \n",
    "- The ISA instruction here might be something as simple as pedaling. \n",
    "- So if we instruct the bicycle to pedal it should no matter what drivetrain, but one might be more power efficient and allow us to go faster."
   ]
  },
  {
   "cell_type": "markdown",
   "metadata": {},
   "source": [
    "#### Ok great, but how do I use this?\n",
    "- When code is compiled/interpreted it converts something easy for a human to read into the instructions easy for the cpu to understand.  \n",
    "- Machine code is the 1's and 0's representing the various instructions from the ISA and other information... like the operation happening, what registers (temporary storage in the cpu for operations) to use, memory addresses, etc...\n",
    "- Assembly code is more or less the human readable version of machine code.\n",
    "- Obviously there's generally not a 1:1 mapping for high level languages to assembly/machine code."
   ]
  },
  {
   "cell_type": "markdown",
   "metadata": {},
   "source": [
    "###### For example... Something as simple as 'a = a*2' in a high level language would be several lines of machine code that might do something along these lines after the instructions are fetched and decoded...\n",
    "- load value of \"a\" from main memory into a cpu register\n",
    "- shift bits of same register to left (multiply by 2)\n",
    "- store resulting value back to memory, possibly caching locally as well \n",
    "\n",
    "###### Interpreted languages like python are a touch different as they use an intermediate step since they are dynamic. You can actually see the intermediate code using the dis module... "
   ]
  },
  {
   "cell_type": "code",
   "execution_count": 1,
   "metadata": {},
   "outputs": [
    {
     "name": "stdout",
     "output_type": "stream",
     "text": [
      "  4           0 LOAD_FAST                0 (value)\n",
      "              2 LOAD_FAST                1 (mult)\n",
      "              4 BINARY_MULTIPLY\n",
      "              6 STORE_FAST               2 (result)\n",
      "\n",
      "  5           8 LOAD_FAST                2 (result)\n",
      "             10 RETURN_VALUE\n"
     ]
    }
   ],
   "source": [
    "import dis\n",
    "\n",
    "def show_byte_code(value, mult=2):\n",
    "    result = value * mult\n",
    "    return result\n",
    "\n",
    "dis.dis(show_byte_code)"
   ]
  },
  {
   "cell_type": "markdown",
   "metadata": {},
   "source": [
    "### Suffice to say that ISAs + compilers make the life of a programmer significantly easier. Imagine having to write code compatible for every different CPU..."
   ]
  },
  {
   "cell_type": "markdown",
   "metadata": {},
   "source": [
    "*** "
   ]
  },
  {
   "cell_type": "markdown",
   "metadata": {},
   "source": [
    "## Operating System (very simplified) \n",
    "- Interface between user and hardware.\n",
    "- CLI/guis for interacting with system.\n",
    "- Management of resoucres and security (kernel).\n",
    "- System libraries for programming. \n",
    "\n",
    "#### The Kernel \n",
    "- The kernel of an OS handles a lot of the system resources available to users only through system calls.\n",
    "- Think of it as an API to access the underlying hardware resources that is called when we run  terminal commands, applications, or execute various programs.\n",
    "- The kernel handles management of processes, memory, and devices & drivers among several other tasks."
   ]
  },
  {
   "cell_type": "markdown",
   "metadata": {},
   "source": [
    "![Alt text](./CA/kernel.png?raw=true \"Kernel\")"
   ]
  },
  {
   "cell_type": "markdown",
   "metadata": {},
   "source": [
    "<h6><center> Simple View of Kernel </center></h6>\n",
    "<center>Source: ??</center>"
   ]
  },
  {
   "cell_type": "markdown",
   "metadata": {},
   "source": [
    "###### Where does all of this \"Live\" though?\n",
    "- Remember fundamentally we're just running through of a stack of instructions on a CPU. The OS is just helping us achieve this through running its own control instructions. These instructions, libraries, and other information are generally things stored in a portion of main memory and disk.\n",
    "- This is obviously a very basic view and we're totally skipping over a great deal of how a system boots and gets to this state. Things like the role of ROM, firmware, UEFI/BIOS, etc... Feel free to look this info up on your own."
   ]
  },
  {
   "cell_type": "markdown",
   "metadata": {},
   "source": [
    "*** "
   ]
  },
  {
   "cell_type": "markdown",
   "metadata": {},
   "source": [
    "### CPUs + GPUs"
   ]
  },
  {
   "cell_type": "markdown",
   "metadata": {},
   "source": [
    "#### A quick view of CPU + GPU interaction \n",
    "- For this example let's assume all our data can fit in memory. Here's a basic flow of how data moves...\n",
    "- Data from disk is loaded into to CPU memory.\n",
    "- Data is copied from CPU memory to GPU memory over the PCIe bus.\n",
    "- CPU tells GPU to run instructions over the data currently in GPU memory.\n",
    "- Data is loaded and computed on the GPU, results are stored back to GPU memory.\n",
    "- Results are copied from GPU memory back to CPU memory. "
   ]
  },
  {
   "cell_type": "markdown",
   "metadata": {},
   "source": [
    "![Alt text](./CA/cpugpu.png?raw=true \"Title\")"
   ]
  },
  {
   "cell_type": "markdown",
   "metadata": {},
   "source": [
    "<h6><center>CPU + GPU Interaction </center></h6>\n",
    "<center>Source: Nvidia Press</center>"
   ]
  },
  {
   "cell_type": "markdown",
   "metadata": {},
   "source": [
    "#### Shortening data paths\n",
    "- That's a lot of a data movement. As these tools grow, we'll always want to reduce the data path traveled. \n",
    "- Some tools like nvidia's GPU direct enables a user with a PCIe switch in front of their gpus (and assuming it's connected to something) to bypass sending data to the CPU and load it directly into the GPU from storage. This saves cpu cycles and memory copy time.  \n",
    "\n",
    "#### Reducing data overheads\n",
    "- Equally important is how can we limit the amount of data being transferred between and stored at the devices.\n",
    "- Depending on circumstances... can we reduce our data to float 16? Or even int 8 (if available on the GPU in question) without hurting end model performance? \n",
    "- By default float 32 is used most places, which just means we have 32x 1's and 0's to represent a number's sign, exponent, and significand. By converting to float 16 we reduce memory sizes by half. \n",
    "- Depending on the GPU there can be significant performance increases as well during training when using float 16 or int 8.\n",
    "- Other topics like sparse matrices and pruning can be explored as well to limit data and compute overheads. "
   ]
  },
  {
   "cell_type": "markdown",
   "metadata": {},
   "source": [
    "### Overall, try to visualize/balance how data interacts with the physical system and how to reduce unnecessary movement, data volume, and compute overhead in tackling a given problem"
   ]
  },
  {
   "cell_type": "markdown",
   "metadata": {},
   "source": [
    "***"
   ]
  },
  {
   "cell_type": "markdown",
   "metadata": {},
   "source": [
    "# How ML is changing hardware"
   ]
  },
  {
   "cell_type": "markdown",
   "metadata": {},
   "source": [
    "### Where things are going\n",
    "- Lots of startups trying to make new and exciting chips for machine learning.\n",
    "- Expect to see more improvements around ML demands at all levels of the stack from device to software. (Already seeing a lot of this in current hardware... for example \"neural cores\" showing up in new CPUs for ML acceleration).\n",
    "- Hopefully a lot more portability between solutions to simplify programmer's time.\n",
    "- Hybrid CPU & GPUs like AMD's APU."
   ]
  },
  {
   "cell_type": "markdown",
   "metadata": {},
   "source": [
    " ### A couple last fun items..."
   ]
  },
  {
   "cell_type": "markdown",
   "metadata": {},
   "source": [
    "#### Tesla\n",
    "- Self driving car hardware with custom chips for fast inference & builtin redundancy."
   ]
  },
  {
   "cell_type": "markdown",
   "metadata": {},
   "source": [
    "![Alt text](./CA/fsd.png?raw=true \"Image Source Tesla\")\n"
   ]
  },
  {
   "cell_type": "markdown",
   "metadata": {},
   "source": [
    "<h6><center>Tesla FSD </center></h6>\n",
    "<center>Source: Tesla Press</center>"
   ]
  },
  {
   "cell_type": "markdown",
   "metadata": {},
   "source": [
    "#### Nvidia DGX\n",
    "- AI/ML based computing system with large focus on GPUs, but still has 2x powerful cpus!\n",
    "- Note the NVlinks present to maximize potential data movement between gpu memory."
   ]
  },
  {
   "cell_type": "markdown",
   "metadata": {},
   "source": [
    "![Alt text](./CA/dgx.png?raw=true \"Title\")\n"
   ]
  },
  {
   "cell_type": "markdown",
   "metadata": {},
   "source": [
    "<h6><center> Nvidia DGX </center></h6>\n",
    "<center>Source: Nvidia Press</center>"
   ]
  }
 ],
 "metadata": {
  "kernelspec": {
   "display_name": "Python 3",
   "language": "python",
   "name": "python3"
  },
  "language_info": {
   "codemirror_mode": {
    "name": "ipython",
    "version": 3
   },
   "file_extension": ".py",
   "mimetype": "text/x-python",
   "name": "python",
   "nbconvert_exporter": "python",
   "pygments_lexer": "ipython3",
   "version": "3.8.5"
  }
 },
 "nbformat": 4,
 "nbformat_minor": 4
}
